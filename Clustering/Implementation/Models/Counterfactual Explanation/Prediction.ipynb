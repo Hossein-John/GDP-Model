{
 "cells": [
  {
   "cell_type": "code",
   "execution_count": 1,
   "id": "4029ccf3-5df0-41eb-adef-1abd8f5ab7a7",
   "metadata": {},
   "outputs": [],
   "source": [
    "import numpy as np\n",
    "import pandas as pd\n",
    "import joblib\n",
    "import warnings\n",
    "warnings.filterwarnings('ignore')"
   ]
  },
  {
   "cell_type": "code",
   "execution_count": 2,
   "id": "dfd1481c-bb91-4644-9a74-07b8fbc0f42a",
   "metadata": {},
   "outputs": [],
   "source": [
    "country = 'ESP'\n",
    "model = joblib.load(f'models/{country}_model.pkl')\n",
    "scaler = joblib.load(f'scalers/{country}_scaler.pkl')\n",
    "\n",
    "\n",
    "new_data = {\n",
    "    'Population' : 50e6, \n",
    "    'Inflation' : 3.5, \n",
    "    'Import' : 110,\n",
    "    'Export' : 105\n",
    "}\n",
    "\n",
    "df = pd.DataFrame([new_data])"
   ]
  },
  {
   "cell_type": "code",
   "execution_count": 3,
   "id": "2e74aeaa-45d2-40b6-9dd6-e5329d830d17",
   "metadata": {},
   "outputs": [
    {
     "data": {
      "text/html": [
       "<div>\n",
       "<style scoped>\n",
       "    .dataframe tbody tr th:only-of-type {\n",
       "        vertical-align: middle;\n",
       "    }\n",
       "\n",
       "    .dataframe tbody tr th {\n",
       "        vertical-align: top;\n",
       "    }\n",
       "\n",
       "    .dataframe thead th {\n",
       "        text-align: right;\n",
       "    }\n",
       "</style>\n",
       "<table border=\"1\" class=\"dataframe\">\n",
       "  <thead>\n",
       "    <tr style=\"text-align: right;\">\n",
       "      <th></th>\n",
       "      <th>Population</th>\n",
       "      <th>Inflation</th>\n",
       "      <th>Import</th>\n",
       "      <th>Export</th>\n",
       "    </tr>\n",
       "  </thead>\n",
       "  <tbody>\n",
       "    <tr>\n",
       "      <th>0</th>\n",
       "      <td>50000000.0</td>\n",
       "      <td>3.5</td>\n",
       "      <td>110</td>\n",
       "      <td>105</td>\n",
       "    </tr>\n",
       "  </tbody>\n",
       "</table>\n",
       "</div>"
      ],
      "text/plain": [
       "   Population  Inflation  Import  Export\n",
       "0  50000000.0        3.5     110     105"
      ]
     },
     "execution_count": 3,
     "metadata": {},
     "output_type": "execute_result"
    }
   ],
   "source": [
    "df"
   ]
  },
  {
   "cell_type": "code",
   "execution_count": 4,
   "id": "a3900279-c210-4f6c-b3b8-16eb81d9ebb0",
   "metadata": {},
   "outputs": [],
   "source": [
    "df_scaled = df.copy()\n",
    "features_columns = ['Population', 'Inflation', 'Import', 'Export']\n",
    "df_scaled[features_columns] = scaler.transform(df_scaled[features_columns]) "
   ]
  },
  {
   "cell_type": "code",
   "execution_count": 5,
   "id": "e452f4fa-07a2-4b19-84ac-4050421783df",
   "metadata": {},
   "outputs": [
    {
     "data": {
      "text/html": [
       "<div>\n",
       "<style scoped>\n",
       "    .dataframe tbody tr th:only-of-type {\n",
       "        vertical-align: middle;\n",
       "    }\n",
       "\n",
       "    .dataframe tbody tr th {\n",
       "        vertical-align: top;\n",
       "    }\n",
       "\n",
       "    .dataframe thead th {\n",
       "        text-align: right;\n",
       "    }\n",
       "</style>\n",
       "<table border=\"1\" class=\"dataframe\">\n",
       "  <thead>\n",
       "    <tr style=\"text-align: right;\">\n",
       "      <th></th>\n",
       "      <th>Population</th>\n",
       "      <th>Inflation</th>\n",
       "      <th>Import</th>\n",
       "      <th>Export</th>\n",
       "    </tr>\n",
       "  </thead>\n",
       "  <tbody>\n",
       "    <tr>\n",
       "      <th>0</th>\n",
       "      <td>50000000.0</td>\n",
       "      <td>3.5</td>\n",
       "      <td>110</td>\n",
       "      <td>105</td>\n",
       "    </tr>\n",
       "  </tbody>\n",
       "</table>\n",
       "</div>"
      ],
      "text/plain": [
       "   Population  Inflation  Import  Export\n",
       "0  50000000.0        3.5     110     105"
      ]
     },
     "execution_count": 5,
     "metadata": {},
     "output_type": "execute_result"
    }
   ],
   "source": [
    "df"
   ]
  },
  {
   "cell_type": "code",
   "execution_count": 6,
   "id": "f1960178-ebc5-4478-a37b-4b97b1ea79e9",
   "metadata": {},
   "outputs": [
    {
     "data": {
      "text/html": [
       "<div>\n",
       "<style scoped>\n",
       "    .dataframe tbody tr th:only-of-type {\n",
       "        vertical-align: middle;\n",
       "    }\n",
       "\n",
       "    .dataframe tbody tr th {\n",
       "        vertical-align: top;\n",
       "    }\n",
       "\n",
       "    .dataframe thead th {\n",
       "        text-align: right;\n",
       "    }\n",
       "</style>\n",
       "<table border=\"1\" class=\"dataframe\">\n",
       "  <thead>\n",
       "    <tr style=\"text-align: right;\">\n",
       "      <th></th>\n",
       "      <th>Population</th>\n",
       "      <th>Inflation</th>\n",
       "      <th>Import</th>\n",
       "      <th>Export</th>\n",
       "    </tr>\n",
       "  </thead>\n",
       "  <tbody>\n",
       "    <tr>\n",
       "      <th>0</th>\n",
       "      <td>1.89807</td>\n",
       "      <td>1.164728</td>\n",
       "      <td>0.61714</td>\n",
       "      <td>0.645826</td>\n",
       "    </tr>\n",
       "  </tbody>\n",
       "</table>\n",
       "</div>"
      ],
      "text/plain": [
       "   Population  Inflation   Import    Export\n",
       "0     1.89807   1.164728  0.61714  0.645826"
      ]
     },
     "execution_count": 6,
     "metadata": {},
     "output_type": "execute_result"
    }
   ],
   "source": [
    "df_scaled"
   ]
  },
  {
   "cell_type": "code",
   "execution_count": 7,
   "id": "2fc0f273-8cb9-4cc6-8576-839db73ea7f5",
   "metadata": {},
   "outputs": [],
   "source": [
    "predicted_gdp = model.predict(df_scaled)"
   ]
  },
  {
   "cell_type": "code",
   "execution_count": 8,
   "id": "3d96f2d7-7417-4f71-b82f-67551a9499d9",
   "metadata": {},
   "outputs": [
    {
     "data": {
      "text/plain": [
       "array([1.63531436e+12])"
      ]
     },
     "execution_count": 8,
     "metadata": {},
     "output_type": "execute_result"
    }
   ],
   "source": [
    "predicted_gdp"
   ]
  },
  {
   "cell_type": "code",
   "execution_count": 9,
   "id": "bd45853c-8c0d-4149-a92c-6a9a4e2ee986",
   "metadata": {},
   "outputs": [
    {
     "data": {
      "text/html": [
       "<div>\n",
       "<style scoped>\n",
       "    .dataframe tbody tr th:only-of-type {\n",
       "        vertical-align: middle;\n",
       "    }\n",
       "\n",
       "    .dataframe tbody tr th {\n",
       "        vertical-align: top;\n",
       "    }\n",
       "\n",
       "    .dataframe thead th {\n",
       "        text-align: right;\n",
       "    }\n",
       "</style>\n",
       "<table border=\"1\" class=\"dataframe\">\n",
       "  <thead>\n",
       "    <tr style=\"text-align: right;\">\n",
       "      <th></th>\n",
       "      <th>Population</th>\n",
       "      <th>Inflation</th>\n",
       "      <th>Import</th>\n",
       "      <th>Export</th>\n",
       "      <th>GDP</th>\n",
       "    </tr>\n",
       "  </thead>\n",
       "  <tbody>\n",
       "    <tr>\n",
       "      <th>0</th>\n",
       "      <td>1.89807</td>\n",
       "      <td>1.164728</td>\n",
       "      <td>0.61714</td>\n",
       "      <td>0.645826</td>\n",
       "      <td>1.635314e+12</td>\n",
       "    </tr>\n",
       "  </tbody>\n",
       "</table>\n",
       "</div>"
      ],
      "text/plain": [
       "   Population  Inflation   Import    Export           GDP\n",
       "0     1.89807   1.164728  0.61714  0.645826  1.635314e+12"
      ]
     },
     "execution_count": 9,
     "metadata": {},
     "output_type": "execute_result"
    }
   ],
   "source": [
    "df_scaled['GDP'] = predicted_gdp\n",
    "df_scaled"
   ]
  },
  {
   "cell_type": "code",
   "execution_count": 10,
   "id": "9d3816cc-3ca3-4d7a-b648-f760ffbb63e2",
   "metadata": {},
   "outputs": [
    {
     "data": {
      "text/html": [
       "<div>\n",
       "<style scoped>\n",
       "    .dataframe tbody tr th:only-of-type {\n",
       "        vertical-align: middle;\n",
       "    }\n",
       "\n",
       "    .dataframe tbody tr th {\n",
       "        vertical-align: top;\n",
       "    }\n",
       "\n",
       "    .dataframe thead th {\n",
       "        text-align: right;\n",
       "    }\n",
       "</style>\n",
       "<table border=\"1\" class=\"dataframe\">\n",
       "  <thead>\n",
       "    <tr style=\"text-align: right;\">\n",
       "      <th></th>\n",
       "      <th>Population</th>\n",
       "      <th>Inflation</th>\n",
       "      <th>Import</th>\n",
       "      <th>Export</th>\n",
       "      <th>GDP</th>\n",
       "    </tr>\n",
       "  </thead>\n",
       "  <tbody>\n",
       "    <tr>\n",
       "      <th>0</th>\n",
       "      <td>50000000.0</td>\n",
       "      <td>3.5</td>\n",
       "      <td>110.0</td>\n",
       "      <td>105.0</td>\n",
       "      <td>1.635314e+12</td>\n",
       "    </tr>\n",
       "  </tbody>\n",
       "</table>\n",
       "</div>"
      ],
      "text/plain": [
       "   Population  Inflation  Import  Export           GDP\n",
       "0  50000000.0        3.5   110.0   105.0  1.635314e+12"
      ]
     },
     "execution_count": 10,
     "metadata": {},
     "output_type": "execute_result"
    }
   ],
   "source": [
    "df_original = df_scaled.copy()\n",
    "df_original[features_columns] = scaler.inverse_transform(df_scaled[features_columns])\n",
    "df_original"
   ]
  },
  {
   "cell_type": "markdown",
   "id": "3530e70e-e3d1-46f1-8157-4e405ff27f82",
   "metadata": {},
   "source": [
    "#### Test"
   ]
  },
  {
   "cell_type": "code",
   "execution_count": 11,
   "id": "0901fbe1-21b9-42bd-99b1-fcaf01409caa",
   "metadata": {},
   "outputs": [],
   "source": [
    "new_data = {\n",
    "    'Population' :1.013177, \n",
    "    'Inflation' : 0.859168, \n",
    "    'Import' : 1.345899,\n",
    "    'Export' : 1.551466\n",
    "}\n",
    "df = pd.DataFrame([new_data])"
   ]
  },
  {
   "cell_type": "code",
   "execution_count": 12,
   "id": "fb331022-92b7-4084-b47d-7acd4960f13b",
   "metadata": {},
   "outputs": [],
   "source": [
    "predicted_gdp = model.predict(df)"
   ]
  },
  {
   "cell_type": "code",
   "execution_count": 13,
   "id": "f75ca27c-8d0a-4b1a-bf22-d97e8be8e417",
   "metadata": {},
   "outputs": [
    {
     "data": {
      "text/plain": [
       "array([1.45076139e+12])"
      ]
     },
     "execution_count": 13,
     "metadata": {},
     "output_type": "execute_result"
    }
   ],
   "source": [
    "predicted_gdp"
   ]
  },
  {
   "cell_type": "code",
   "execution_count": null,
   "id": "8ebc242d-1b8a-4bc5-bdbb-73688a0edddb",
   "metadata": {},
   "outputs": [],
   "source": []
  }
 ],
 "metadata": {
  "kernelspec": {
   "display_name": "Python 3 (ipykernel)",
   "language": "python",
   "name": "python3"
  },
  "language_info": {
   "codemirror_mode": {
    "name": "ipython",
    "version": 3
   },
   "file_extension": ".py",
   "mimetype": "text/x-python",
   "name": "python",
   "nbconvert_exporter": "python",
   "pygments_lexer": "ipython3",
   "version": "3.9.0"
  }
 },
 "nbformat": 4,
 "nbformat_minor": 5
}
