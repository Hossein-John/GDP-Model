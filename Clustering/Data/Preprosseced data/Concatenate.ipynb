{
 "cells": [
  {
   "cell_type": "markdown",
   "id": "6a337f84-4b24-4adb-913e-f9e00791ccbf",
   "metadata": {},
   "source": [
    "# Concatenate all data"
   ]
  },
  {
   "cell_type": "code",
   "execution_count": 1,
   "id": "5b1f6004-69d2-4835-8b73-0c6449271454",
   "metadata": {},
   "outputs": [],
   "source": [
    "import pandas as pd"
   ]
  },
  {
   "cell_type": "code",
   "execution_count": 2,
   "id": "53f93835-e612-4179-a140-befe8119e882",
   "metadata": {},
   "outputs": [
    {
     "name": "stdout",
     "output_type": "stream",
     "text": [
      "                   Inflation  Population  GDP  Export  Import\n",
      "Country Code Year                                            \n",
      "ABW          1960        NaN     54922.0  NaN     NaN     NaN\n",
      "             1961        NaN     55578.0  NaN     NaN     NaN\n",
      "             1962        NaN     56320.0  NaN     NaN     NaN\n",
      "             1963        NaN     57002.0  NaN     NaN     NaN\n",
      "             1964        NaN     57619.0  NaN     NaN     NaN\n"
     ]
    }
   ],
   "source": [
    "df_inflation = pd.read_csv(\"inflation_preprocessed.csv\", index_col=['Country Code', 'Year'])\n",
    "df_population = pd.read_csv(\"population_preprocessed.csv\", index_col=['Country Code', 'Year'])\n",
    "df_gdp = pd.read_csv(\"gdp_preprocessed.csv\", index_col=['Country Code', 'Year'])\n",
    "df_export = pd.read_csv(\"export_preprocessed.csv\", index_col=['Country Code', 'Year'])\n",
    "df_import = pd.read_csv(\"import_preprocessed.csv\", index_col=['Country Code', 'Year'])\n",
    "\n",
    "\n",
    "df_combined = pd.concat([df_inflation, df_population, df_gdp, df_export, df_import], axis=1)\n",
    "\n",
    "print(df_combined.head())"
   ]
  },
  {
   "cell_type": "code",
   "execution_count": 3,
   "id": "47022a96-7a04-45af-89da-83cc2353f44f",
   "metadata": {},
   "outputs": [
    {
     "data": {
      "text/html": [
       "<div>\n",
       "<style scoped>\n",
       "    .dataframe tbody tr th:only-of-type {\n",
       "        vertical-align: middle;\n",
       "    }\n",
       "\n",
       "    .dataframe tbody tr th {\n",
       "        vertical-align: top;\n",
       "    }\n",
       "\n",
       "    .dataframe thead th {\n",
       "        text-align: right;\n",
       "    }\n",
       "</style>\n",
       "<table border=\"1\" class=\"dataframe\">\n",
       "  <thead>\n",
       "    <tr style=\"text-align: right;\">\n",
       "      <th></th>\n",
       "      <th></th>\n",
       "      <th>Inflation</th>\n",
       "      <th>Population</th>\n",
       "      <th>GDP</th>\n",
       "      <th>Export</th>\n",
       "      <th>Import</th>\n",
       "    </tr>\n",
       "    <tr>\n",
       "      <th>Country Code</th>\n",
       "      <th>Year</th>\n",
       "      <th></th>\n",
       "      <th></th>\n",
       "      <th></th>\n",
       "      <th></th>\n",
       "      <th></th>\n",
       "    </tr>\n",
       "  </thead>\n",
       "  <tbody>\n",
       "    <tr>\n",
       "      <th rowspan=\"5\" valign=\"top\">ABW</th>\n",
       "      <th>1960</th>\n",
       "      <td>NaN</td>\n",
       "      <td>54922.0</td>\n",
       "      <td>NaN</td>\n",
       "      <td>NaN</td>\n",
       "      <td>NaN</td>\n",
       "    </tr>\n",
       "    <tr>\n",
       "      <th>1961</th>\n",
       "      <td>NaN</td>\n",
       "      <td>55578.0</td>\n",
       "      <td>NaN</td>\n",
       "      <td>NaN</td>\n",
       "      <td>NaN</td>\n",
       "    </tr>\n",
       "    <tr>\n",
       "      <th>1962</th>\n",
       "      <td>NaN</td>\n",
       "      <td>56320.0</td>\n",
       "      <td>NaN</td>\n",
       "      <td>NaN</td>\n",
       "      <td>NaN</td>\n",
       "    </tr>\n",
       "    <tr>\n",
       "      <th>1963</th>\n",
       "      <td>NaN</td>\n",
       "      <td>57002.0</td>\n",
       "      <td>NaN</td>\n",
       "      <td>NaN</td>\n",
       "      <td>NaN</td>\n",
       "    </tr>\n",
       "    <tr>\n",
       "      <th>1964</th>\n",
       "      <td>NaN</td>\n",
       "      <td>57619.0</td>\n",
       "      <td>NaN</td>\n",
       "      <td>NaN</td>\n",
       "      <td>NaN</td>\n",
       "    </tr>\n",
       "    <tr>\n",
       "      <th>...</th>\n",
       "      <th>...</th>\n",
       "      <td>...</td>\n",
       "      <td>...</td>\n",
       "      <td>...</td>\n",
       "      <td>...</td>\n",
       "      <td>...</td>\n",
       "    </tr>\n",
       "    <tr>\n",
       "      <th rowspan=\"5\" valign=\"top\">ZWE</th>\n",
       "      <th>2019</th>\n",
       "      <td>255.304991</td>\n",
       "      <td>15271368.0</td>\n",
       "      <td>2.571741e+10</td>\n",
       "      <td>131.425343</td>\n",
       "      <td>79.585840</td>\n",
       "    </tr>\n",
       "    <tr>\n",
       "      <th>2020</th>\n",
       "      <td>557.201817</td>\n",
       "      <td>15526888.0</td>\n",
       "      <td>2.686794e+10</td>\n",
       "      <td>135.325610</td>\n",
       "      <td>82.633621</td>\n",
       "    </tr>\n",
       "    <tr>\n",
       "      <th>2021</th>\n",
       "      <td>98.546105</td>\n",
       "      <td>15797210.0</td>\n",
       "      <td>2.724052e+10</td>\n",
       "      <td>185.806800</td>\n",
       "      <td>118.756526</td>\n",
       "    </tr>\n",
       "    <tr>\n",
       "      <th>2022</th>\n",
       "      <td>104.705171</td>\n",
       "      <td>16069056.0</td>\n",
       "      <td>3.278975e+10</td>\n",
       "      <td>NaN</td>\n",
       "      <td>NaN</td>\n",
       "    </tr>\n",
       "    <tr>\n",
       "      <th>2023</th>\n",
       "      <td>NaN</td>\n",
       "      <td>16340822.0</td>\n",
       "      <td>3.523137e+10</td>\n",
       "      <td>NaN</td>\n",
       "      <td>NaN</td>\n",
       "    </tr>\n",
       "  </tbody>\n",
       "</table>\n",
       "<p>17024 rows × 5 columns</p>\n",
       "</div>"
      ],
      "text/plain": [
       "                    Inflation  Population           GDP      Export  \\\n",
       "Country Code Year                                                     \n",
       "ABW          1960         NaN     54922.0           NaN         NaN   \n",
       "             1961         NaN     55578.0           NaN         NaN   \n",
       "             1962         NaN     56320.0           NaN         NaN   \n",
       "             1963         NaN     57002.0           NaN         NaN   \n",
       "             1964         NaN     57619.0           NaN         NaN   \n",
       "...                       ...         ...           ...         ...   \n",
       "ZWE          2019  255.304991  15271368.0  2.571741e+10  131.425343   \n",
       "             2020  557.201817  15526888.0  2.686794e+10  135.325610   \n",
       "             2021   98.546105  15797210.0  2.724052e+10  185.806800   \n",
       "             2022  104.705171  16069056.0  3.278975e+10         NaN   \n",
       "             2023         NaN  16340822.0  3.523137e+10         NaN   \n",
       "\n",
       "                       Import  \n",
       "Country Code Year              \n",
       "ABW          1960         NaN  \n",
       "             1961         NaN  \n",
       "             1962         NaN  \n",
       "             1963         NaN  \n",
       "             1964         NaN  \n",
       "...                       ...  \n",
       "ZWE          2019   79.585840  \n",
       "             2020   82.633621  \n",
       "             2021  118.756526  \n",
       "             2022         NaN  \n",
       "             2023         NaN  \n",
       "\n",
       "[17024 rows x 5 columns]"
      ]
     },
     "execution_count": 3,
     "metadata": {},
     "output_type": "execute_result"
    }
   ],
   "source": [
    "df_combined"
   ]
  },
  {
   "cell_type": "code",
   "execution_count": 4,
   "id": "202d02f2-5ae6-4c60-a761-0d15ee3b6823",
   "metadata": {},
   "outputs": [
    {
     "data": {
      "text/plain": [
       "<bound method Index.isin of Index(['ABW', 'ABW', 'ABW', 'ABW', 'ABW', 'ABW', 'ABW', 'ABW', 'ABW', 'ABW',\n",
       "       ...\n",
       "       'ZWE', 'ZWE', 'ZWE', 'ZWE', 'ZWE', 'ZWE', 'ZWE', 'ZWE', 'ZWE', 'ZWE'],\n",
       "      dtype='object', name='Country Code', length=17024)>"
      ]
     },
     "execution_count": 4,
     "metadata": {},
     "output_type": "execute_result"
    }
   ],
   "source": [
    "df_combined.index.get_level_values('Country Code').isin"
   ]
  },
  {
   "cell_type": "code",
   "execution_count": 5,
   "id": "5fedc12e-5c7d-49d6-a66c-d08d8b8dc096",
   "metadata": {},
   "outputs": [],
   "source": [
    "country_codes_to_remove = [\n",
    " 'AFE',\n",
    " 'AFW',\n",
    " 'AND',\n",
    " 'ARB',\n",
    " 'ARG',\n",
    " 'ASM',\n",
    " 'BMU',\n",
    " 'CEB',\n",
    " 'CHE',\n",
    " 'CHI',\n",
    " 'CSS',\n",
    " 'CUB',\n",
    " 'EAP',\n",
    " 'EAR',\n",
    " 'EAS',\n",
    " 'ECA',\n",
    " 'ECS',\n",
    " 'EMU',\n",
    " 'ERI',\n",
    " 'EUU',\n",
    " 'FCS',\n",
    " 'FRO',\n",
    " 'GIB',\n",
    " 'GRL',\n",
    " 'GUM',\n",
    " 'HIC',\n",
    " 'HPC',\n",
    " 'IBD',\n",
    " 'IBT',\n",
    " 'IDA',\n",
    " 'IDB',\n",
    " 'IDX',\n",
    " 'IMN',\n",
    " 'INX',\n",
    " 'LAC',\n",
    " 'LCN',\n",
    " 'LDC',\n",
    " 'LIC',\n",
    " 'LIE',\n",
    " 'LMC',\n",
    " 'LMY',\n",
    " 'LTE',\n",
    " 'MAF',\n",
    " 'MCO',\n",
    " 'MEA',\n",
    " 'MHL',\n",
    " 'MIC',\n",
    " 'MNA',\n",
    " 'MNE',\n",
    " 'MNP',\n",
    " 'NAC',\n",
    " 'OED',\n",
    " 'OSS',\n",
    " 'PRE',\n",
    " 'PRI',\n",
    " 'PRK',\n",
    " 'PSS',\n",
    " 'PST',\n",
    " 'PYF',\n",
    " 'SAS',\n",
    " 'SMR',\n",
    " 'SOM',\n",
    " 'SSA',\n",
    " 'SSD',\n",
    " 'SSF',\n",
    " 'SST',\n",
    " 'SXM',\n",
    " 'TCA',\n",
    " 'TEA',\n",
    " 'TEC',\n",
    " 'TKM',\n",
    " 'TLA',\n",
    " 'TLS',\n",
    " 'TMN',\n",
    " 'TSA',\n",
    " 'TSS',\n",
    " 'TUV',\n",
    " 'UMC',\n",
    " 'VEN',\n",
    " 'VGB',\n",
    " 'VIR',\n",
    " 'WLD',\n",
    " 'XKX']"
   ]
  },
  {
   "cell_type": "code",
   "execution_count": 6,
   "id": "500d608d-a662-43fe-91f2-4c92c23ea52a",
   "metadata": {},
   "outputs": [],
   "source": [
    "years_to_remove = [\n",
    "  1960 ,\n",
    "  1961 ,\n",
    "  1962 ,\n",
    "  1963 ,\n",
    "  1964 ,\n",
    "  1965 ,\n",
    "  1966 ,\n",
    "  1967 ,\n",
    "  1968 ,\n",
    "  1969 ,\n",
    "  1970 ,\n",
    "  1971 ,\n",
    "  1972 ,\n",
    "  1973 ,\n",
    "  1974 ,\n",
    "  1975 ,\n",
    "  1976 ,\n",
    "  1977 ,\n",
    "  1978 ,\n",
    "  1979 ,\n",
    "  2022 ,\n",
    "  2023]"
   ]
  },
  {
   "cell_type": "code",
   "execution_count": 7,
   "id": "1562be33-aec2-4b17-813f-6a630c5aaabd",
   "metadata": {},
   "outputs": [],
   "source": [
    "mask = ~((df_combined.index.get_level_values('Country Code').isin(country_codes_to_remove)) | \n",
    "         (df_combined.index.get_level_values('Year').isin(years_to_remove)))"
   ]
  },
  {
   "cell_type": "code",
   "execution_count": 8,
   "id": "7bbbbf03-6a55-4816-b698-9eae5f2d6e99",
   "metadata": {},
   "outputs": [
    {
     "data": {
      "text/plain": [
       "17024"
      ]
     },
     "execution_count": 8,
     "metadata": {},
     "output_type": "execute_result"
    }
   ],
   "source": [
    "len(mask)"
   ]
  },
  {
   "cell_type": "code",
   "execution_count": 9,
   "id": "276813ba-4ad5-4c6b-a886-948868013b7c",
   "metadata": {},
   "outputs": [],
   "source": [
    "x = mask[mask == False]\n",
    "y = mask[mask == True]"
   ]
  },
  {
   "cell_type": "code",
   "execution_count": 10,
   "id": "ab1d2a2c-7056-40a3-b08d-93ffcb8b854c",
   "metadata": {},
   "outputs": [
    {
     "name": "stdout",
     "output_type": "stream",
     "text": [
      "9338\n",
      "7686\n"
     ]
    }
   ],
   "source": [
    "print(len(x))\n",
    "print(len(y))"
   ]
  },
  {
   "cell_type": "code",
   "execution_count": 11,
   "id": "d018793c-920c-477a-998e-7cd926bb457a",
   "metadata": {},
   "outputs": [
    {
     "data": {
      "text/plain": [
       "17024"
      ]
     },
     "execution_count": 11,
     "metadata": {},
     "output_type": "execute_result"
    }
   ],
   "source": [
    "len(df_combined)"
   ]
  },
  {
   "cell_type": "code",
   "execution_count": 12,
   "id": "09994d8b-45d5-4c7c-877a-7d8948de8773",
   "metadata": {},
   "outputs": [],
   "source": [
    "df_combined = df_combined[mask]"
   ]
  },
  {
   "cell_type": "code",
   "execution_count": 13,
   "id": "62d4ce2d-b7d5-468e-944a-f8e8a2977bfb",
   "metadata": {},
   "outputs": [
    {
     "data": {
      "text/plain": [
       "7686"
      ]
     },
     "execution_count": 13,
     "metadata": {},
     "output_type": "execute_result"
    }
   ],
   "source": [
    "len(df_combined)"
   ]
  },
  {
   "cell_type": "code",
   "execution_count": 14,
   "id": "46359ef5-767d-4b8e-9039-2ca5c6ebe5e8",
   "metadata": {},
   "outputs": [],
   "source": [
    "df_combined.to_csv('combined_data.csv')"
   ]
  }
 ],
 "metadata": {
  "kernelspec": {
   "display_name": "Python 3 (ipykernel)",
   "language": "python",
   "name": "python3"
  },
  "language_info": {
   "codemirror_mode": {
    "name": "ipython",
    "version": 3
   },
   "file_extension": ".py",
   "mimetype": "text/x-python",
   "name": "python",
   "nbconvert_exporter": "python",
   "pygments_lexer": "ipython3",
   "version": "3.9.0"
  }
 },
 "nbformat": 4,
 "nbformat_minor": 5
}
